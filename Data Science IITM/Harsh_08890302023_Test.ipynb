{
 "cells": [
  {
   "cell_type": "code",
   "execution_count": null,
   "id": "33163a12-5405-49f7-8924-67d4e999dd30",
   "metadata": {},
   "outputs": [],
   "source": [
    "#Q1\n",
    "- lists are mutable means the data stores in the list can be changed, whereas tuples are immutable means the data cannot be changed\n",
    "- lists use close brackets[] and tuples uses open brackets()\n",
    "#example of list\n",
    "\n",
    "my_list = [1,2,3,4]\n",
    "\n",
    "#example of tuple\n",
    "\n",
    "my_tuple = (1,2,3,4)\n"
   ]
  },
  {
   "cell_type": "code",
   "execution_count": null,
   "id": "1698229e-abcf-4548-9c11-bfdd7790c097",
   "metadata": {},
   "outputs": [],
   "source": [
    "#Q2\n",
    "-input function basically allows user to input data and convert it into string\n",
    "-input function returns string datatype\n",
    "-by using int function user can convert it into an integer"
   ]
  },
  {
   "cell_type": "code",
   "execution_count": null,
   "id": "4387b63f-c87c-4504-962d-70e012dd3ca6",
   "metadata": {},
   "outputs": [],
   "source": [
    "#Q3\n",
    "-python dictionaries are those which store data in key-value pairs\n",
    "#example\n",
    "my_dict = {1,2,3,4, 'Harsh'}"
   ]
  },
  {
   "cell_type": "code",
   "execution_count": null,
   "id": "6e905935-f2f9-44cd-a7d9-f3bcff9def20",
   "metadata": {},
   "outputs": [],
   "source": [
    "#Q4\n",
    "-for loop means working on elements of list, string at a time\n",
    "-it works on an element at a time\n",
    "#example of for loop\n",
    "python = [1,2,3,4,5]\n",
    "for i in python:\n",
    "    if (i == 1,5):\n",
    "        print(i)"
   ]
  },
  {
   "cell_type": "code",
   "execution_count": null,
   "id": "6eda92cf-2d97-4a33-addb-4ce2d39e1992",
   "metadata": {},
   "outputs": [],
   "source": [
    "#Q5\n",
    "-exceptional handling means handling the program smartly when program crashes or face any error\n",
    "-in try we write code which might give error\n",
    "-except runs when try block gets error\n",
    "-finally runs whether program faces an error or not"
   ]
  },
  {
   "cell_type": "code",
   "execution_count": null,
   "id": "631a4950-6bc2-45b5-b886-62f5323b34dc",
   "metadata": {},
   "outputs": [],
   "source": [
    "#Q6\n",
    "-python modules are those files which contain python codes like class, main\n",
    "-we can use them by importing\n",
    "#example\n"
   ]
  },
  {
   "cell_type": "code",
   "execution_count": null,
   "id": "515df5b4-7a5e-4194-a4f8-b7f77ef040ed",
   "metadata": {},
   "outputs": [],
   "source": [
    "#Q7\n",
    "-object oriented programming in python means writing code with the help of objects\n",
    "-in python we can create objects using classes where class is considered as a blueprint\n",
    "-anything which consist data and a function present to work with that data is called objects\n"
   ]
  },
  {
   "cell_type": "code",
   "execution_count": null,
   "id": "636b4482-e0c5-44cd-b2a3-c818938b4ce2",
   "metadata": {},
   "outputs": [],
   "source": [
    "#Q8\n",
    "-list comprehension means short and easy way to create a nwe list\n",
    "result = [x*2]\n",
    "for x in range (10)\n",
    "if x%2 ==0"
   ]
  },
  {
   "cell_type": "code",
   "execution_count": 5,
   "id": "d6b96e08-ed1a-4d36-9180-b562c9762de4",
   "metadata": {},
   "outputs": [
    {
     "name": "stdin",
     "output_type": "stream",
     "text": [
      "Enter the radius: 7\n"
     ]
    }
   ],
   "source": [
    "#Q9\n",
    "circle_radius=float(input(\"Enter the radius:\"))\n",
    "    #area = pie r^2\n",
    "pie = 3.14\n",
    "area = pie * circle_radius * circle_radius"
   ]
  },
  {
   "cell_type": "code",
   "execution_count": 6,
   "id": "bd8c4608-169d-41c0-b31d-dec693d75573",
   "metadata": {},
   "outputs": [
    {
     "name": "stdout",
     "output_type": "stream",
     "text": [
      "153.86\n"
     ]
    }
   ],
   "source": [
    "print(area)"
   ]
  },
  {
   "cell_type": "code",
   "execution_count": 7,
   "id": "d5b2b81a-11bd-4027-a977-c6f2abe51e13",
   "metadata": {},
   "outputs": [
    {
     "name": "stdin",
     "output_type": "stream",
     "text": [
      "Enter your name:  Harsh\n",
      "Enter your age:  20\n"
     ]
    },
    {
     "name": "stdout",
     "output_type": "stream",
     "text": [
      "Hello Harsh, you are 20 years old!\n"
     ]
    }
   ],
   "source": [
    "#Q10\n",
    "name = input(\"Enter your name: \")\n",
    "age = input(\"Enter your age: \")\n",
    "print(f\"Hello {name}, you are {age} years old!\")"
   ]
  },
  {
   "cell_type": "code",
   "execution_count": null,
   "id": "b42c0d0c-d366-4049-a29e-a5b4cba77714",
   "metadata": {},
   "outputs": [],
   "source": []
  }
 ],
 "metadata": {
  "kernelspec": {
   "display_name": "Python [conda env:base] *",
   "language": "python",
   "name": "conda-base-py"
  },
  "language_info": {
   "codemirror_mode": {
    "name": "ipython",
    "version": 3
   },
   "file_extension": ".py",
   "mimetype": "text/x-python",
   "name": "python",
   "nbconvert_exporter": "python",
   "pygments_lexer": "ipython3",
   "version": "3.13.5"
  }
 },
 "nbformat": 4,
 "nbformat_minor": 5
}
